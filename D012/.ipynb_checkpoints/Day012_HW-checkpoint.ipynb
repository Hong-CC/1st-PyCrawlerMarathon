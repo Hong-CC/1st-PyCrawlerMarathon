{
 "cells": [
  {
   "cell_type": "markdown",
   "metadata": {},
   "source": [
    "# Ettoday 網路爬蟲實作練習\n",
    "\n",
    "\n",
    "* 能夠利用 Request + BeatifulSour 撰寫爬蟲，並存放到合適的資料結構\n"
   ]
  },
  {
   "cell_type": "markdown",
   "metadata": {},
   "source": [
    "## 作業目標\n",
    "\n",
    "根據範例 ，完成以下問題：\n",
    "\n",
    "* ① 取出今天所有的發文\n",
    "* ② 如果想要依照類別分類，怎麼儲存會比較好？\n",
    "* ③ 哪一個類別的文章最多\n",
    "\n",
    "\n"
   ]
  },
  {
   "cell_type": "code",
   "execution_count": 1,
   "metadata": {},
   "outputs": [],
   "source": [
    "import requests\n",
    "from bs4 import BeautifulSoup\n",
    "import pandas as pd\n",
    "import re\n",
    "from datetime import datetime"
   ]
  },
  {
   "cell_type": "markdown",
   "metadata": {},
   "source": [
    "### ① 取出今天所有的發文"
   ]
  },
  {
   "cell_type": "code",
   "execution_count": 2,
   "metadata": {
    "scrolled": false
   },
   "outputs": [],
   "source": [
    "url = 'https://www.ettoday.net/news/news-list.htm'\n",
    "r = requests.get(url)\n",
    "\n",
    "soup = BeautifulSoup(r.text)"
   ]
  },
  {
   "cell_type": "markdown",
   "metadata": {},
   "source": [
    "### 設定如何判斷當天\n",
    "為什麼需要用regex?  \n",
    "ans: d.find(class_ = 'date').text print出來的結果會包含發新聞的時間，我們僅需要擷取日期的部分出來，和今天的日期比較就好。\n",
    "print(d.find(class_ = 'date').text → 2019/12/14 02:42"
   ]
  },
  {
   "cell_type": "code",
   "execution_count": 4,
   "metadata": {},
   "outputs": [],
   "source": [
    "# 設定當天，格式與find的結果相同yyyy/mm/dd\n",
    "today = datetime.today().strftime('%Y/%m/%d')\n",
    "regex = '\\d+/\\d+/\\d+'\n",
    "pattern = re.compile(regex)"
   ]
  },
  {
   "cell_type": "code",
   "execution_count": 5,
   "metadata": {},
   "outputs": [
    {
     "data": {
      "text/plain": [
       "'2019/12/14'"
      ]
     },
     "execution_count": 5,
     "metadata": {},
     "output_type": "execute_result"
    }
   ],
   "source": [
    "# test\n",
    "re.search(pattern, today).group()"
   ]
  },
  {
   "cell_type": "code",
   "execution_count": 6,
   "metadata": {},
   "outputs": [],
   "source": [
    "newsList = []\n",
    "for d in soup.find(class_ = 'part_list_2').find_all('h3'):\n",
    "    date = d.find(class_ = 'date').text\n",
    "    if re.search(pattern, date).group() == today:\n",
    "        tag = d.find(class_ = 'tag').text\n",
    "        title = d.find('a').text\n",
    "        newsList.append({\n",
    "            'time' : date,\n",
    "            'tag' : tag,\n",
    "            'title' : title\n",
    "        })\n",
    "newsDataFrame = pd.DataFrame.from_dict(newsList)"
   ]
  },
  {
   "cell_type": "code",
   "execution_count": 7,
   "metadata": {},
   "outputs": [
    {
     "data": {
      "text/html": [
       "<div>\n",
       "<style scoped>\n",
       "    .dataframe tbody tr th:only-of-type {\n",
       "        vertical-align: middle;\n",
       "    }\n",
       "\n",
       "    .dataframe tbody tr th {\n",
       "        vertical-align: top;\n",
       "    }\n",
       "\n",
       "    .dataframe thead th {\n",
       "        text-align: right;\n",
       "    }\n",
       "</style>\n",
       "<table border=\"1\" class=\"dataframe\">\n",
       "  <thead>\n",
       "    <tr style=\"text-align: right;\">\n",
       "      <th></th>\n",
       "      <th>time</th>\n",
       "      <th>tag</th>\n",
       "      <th>title</th>\n",
       "    </tr>\n",
       "  </thead>\n",
       "  <tbody>\n",
       "    <tr>\n",
       "      <th>0</th>\n",
       "      <td>2019/12/14 12:06</td>\n",
       "      <td>國際</td>\n",
       "      <td>他親眼見寶寶「被關洗衣機翻攪」　詭譎笑臉發毛…走近看才知自己腦補糗炸！</td>\n",
       "    </tr>\n",
       "    <tr>\n",
       "      <th>1</th>\n",
       "      <td>2019/12/14 12:06</td>\n",
       "      <td>房產雲</td>\n",
       "      <td>課本誤丟洗衣機！見「繽紛濕爛碎紙」母女吵翻：誰洗誰清　網中肯突破盲點</td>\n",
       "    </tr>\n",
       "    <tr>\n",
       "      <th>2</th>\n",
       "      <td>2019/12/14 12:05</td>\n",
       "      <td>社會</td>\n",
       "      <td>彰化賣場老闆命案！爸自曝「我殺了你媽」　母進賣場後失蹤48天</td>\n",
       "    </tr>\n",
       "    <tr>\n",
       "      <th>3</th>\n",
       "      <td>2019/12/14 12:05</td>\n",
       "      <td>ET車雲</td>\n",
       "      <td>一桶油跑937km！美EPA環保局測試：福特Kuga油電休旅同級最省</td>\n",
       "    </tr>\n",
       "    <tr>\n",
       "      <th>4</th>\n",
       "      <td>2019/12/14 12:05</td>\n",
       "      <td>時尚</td>\n",
       "      <td>LIFE・經典／開幕3個月破百萬人次　北歐最美圖書館像靜靜停留的大船</td>\n",
       "    </tr>\n",
       "    <tr>\n",
       "      <th>...</th>\n",
       "      <td>...</td>\n",
       "      <td>...</td>\n",
       "      <td>...</td>\n",
       "    </tr>\n",
       "    <tr>\n",
       "      <th>95</th>\n",
       "      <td>2019/12/14 09:52</td>\n",
       "      <td>社會</td>\n",
       "      <td>六親不認、想殺爸媽！玉井「真理佛堂」火警7死　負責人曝縱火嫌偏差行徑</td>\n",
       "    </tr>\n",
       "    <tr>\n",
       "      <th>96</th>\n",
       "      <td>2019/12/14 09:52</td>\n",
       "      <td>房產雲</td>\n",
       "      <td>友人曝：室內門號早停掉！他好奇「家裡還有室內電話嗎」　沒在用竟佔約4成</td>\n",
       "    </tr>\n",
       "    <tr>\n",
       "      <th>97</th>\n",
       "      <td>2019/12/14 09:46</td>\n",
       "      <td>旅遊</td>\n",
       "      <td>睡進星際大戰、復仇者聯盟電影場景！全球迪士尼樂園將開幕的3大主題飯店</td>\n",
       "    </tr>\n",
       "    <tr>\n",
       "      <th>98</th>\n",
       "      <td>2019/12/14 09:44</td>\n",
       "      <td>時尚</td>\n",
       "      <td>迎接春節用這顆最喜氣！倩碧2020黃金小老鼠打亮盤　打造新年開運妝</td>\n",
       "    </tr>\n",
       "    <tr>\n",
       "      <th>99</th>\n",
       "      <td>2019/12/14 09:28</td>\n",
       "      <td>政治</td>\n",
       "      <td>「黨產不流行了！」柯文哲諷民進黨：有國營事業、前瞻8800億就夠了</td>\n",
       "    </tr>\n",
       "  </tbody>\n",
       "</table>\n",
       "<p>100 rows × 3 columns</p>\n",
       "</div>"
      ],
      "text/plain": [
       "                time   tag                                title\n",
       "0   2019/12/14 12:06    國際  他親眼見寶寶「被關洗衣機翻攪」　詭譎笑臉發毛…走近看才知自己腦補糗炸！\n",
       "1   2019/12/14 12:06   房產雲   課本誤丟洗衣機！見「繽紛濕爛碎紙」母女吵翻：誰洗誰清　網中肯突破盲點\n",
       "2   2019/12/14 12:05    社會       彰化賣場老闆命案！爸自曝「我殺了你媽」　母進賣場後失蹤48天\n",
       "3   2019/12/14 12:05  ET車雲   一桶油跑937km！美EPA環保局測試：福特Kuga油電休旅同級最省\n",
       "4   2019/12/14 12:05    時尚   LIFE・經典／開幕3個月破百萬人次　北歐最美圖書館像靜靜停留的大船\n",
       "..               ...   ...                                  ...\n",
       "95  2019/12/14 09:52    社會   六親不認、想殺爸媽！玉井「真理佛堂」火警7死　負責人曝縱火嫌偏差行徑\n",
       "96  2019/12/14 09:52   房產雲  友人曝：室內門號早停掉！他好奇「家裡還有室內電話嗎」　沒在用竟佔約4成\n",
       "97  2019/12/14 09:46    旅遊   睡進星際大戰、復仇者聯盟電影場景！全球迪士尼樂園將開幕的3大主題飯店\n",
       "98  2019/12/14 09:44    時尚    迎接春節用這顆最喜氣！倩碧2020黃金小老鼠打亮盤　打造新年開運妝\n",
       "99  2019/12/14 09:28    政治    「黨產不流行了！」柯文哲諷民進黨：有國營事業、前瞻8800億就夠了\n",
       "\n",
       "[100 rows x 3 columns]"
      ]
     },
     "execution_count": 7,
     "metadata": {},
     "output_type": "execute_result"
    }
   ],
   "source": [
    "newsDataFrame"
   ]
  },
  {
   "cell_type": "markdown",
   "metadata": {},
   "source": [
    "### ② 如果想要依照類別分類，怎麼儲存會比較好？"
   ]
  },
  {
   "cell_type": "code",
   "execution_count": 8,
   "metadata": {},
   "outputs": [
    {
     "data": {
      "text/html": [
       "<div>\n",
       "<style scoped>\n",
       "    .dataframe tbody tr th:only-of-type {\n",
       "        vertical-align: middle;\n",
       "    }\n",
       "\n",
       "    .dataframe tbody tr th {\n",
       "        vertical-align: top;\n",
       "    }\n",
       "\n",
       "    .dataframe thead th {\n",
       "        text-align: right;\n",
       "    }\n",
       "</style>\n",
       "<table border=\"1\" class=\"dataframe\">\n",
       "  <thead>\n",
       "    <tr style=\"text-align: right;\">\n",
       "      <th></th>\n",
       "      <th>time</th>\n",
       "      <th>tag</th>\n",
       "      <th>title</th>\n",
       "    </tr>\n",
       "  </thead>\n",
       "  <tbody>\n",
       "    <tr>\n",
       "      <th>3</th>\n",
       "      <td>2019/12/14 12:05</td>\n",
       "      <td>ET車雲</td>\n",
       "      <td>一桶油跑937km！美EPA環保局測試：福特Kuga油電休旅同級最省</td>\n",
       "    </tr>\n",
       "    <tr>\n",
       "      <th>87</th>\n",
       "      <td>2019/12/14 10:05</td>\n",
       "      <td>ET車雲</td>\n",
       "      <td>「老司機」為何這麼痛恨扭力樑？操駕安定感及舒適度是一大考驗</td>\n",
       "    </tr>\n",
       "    <tr>\n",
       "      <th>51</th>\n",
       "      <td>2019/12/14 11:04</td>\n",
       "      <td>健康</td>\n",
       "      <td>39歲女「卵巢早衰」停經3個月　醫曝「致病危機」：壓力影響暴增</td>\n",
       "    </tr>\n",
       "    <tr>\n",
       "      <th>35</th>\n",
       "      <td>2019/12/14 11:26</td>\n",
       "      <td>健康</td>\n",
       "      <td>洗米水沖菜更髒！專家曝常見「5大NG洗法」...浸泡＝營養全失</td>\n",
       "    </tr>\n",
       "    <tr>\n",
       "      <th>90</th>\n",
       "      <td>2019/12/14 10:00</td>\n",
       "      <td>健康</td>\n",
       "      <td>打了流感疫苗怎麼還感冒？藥師3面向分析：一般感冒≠流感</td>\n",
       "    </tr>\n",
       "    <tr>\n",
       "      <th>...</th>\n",
       "      <td>...</td>\n",
       "      <td>...</td>\n",
       "      <td>...</td>\n",
       "    </tr>\n",
       "    <tr>\n",
       "      <th>60</th>\n",
       "      <td>2019/12/14 10:54</td>\n",
       "      <td>體育</td>\n",
       "      <td>CBA／廣廈找到新外援！　簽下上季老鷹普朗李攜手劉錚</td>\n",
       "    </tr>\n",
       "    <tr>\n",
       "      <th>56</th>\n",
       "      <td>2019/12/14 10:59</td>\n",
       "      <td>體育</td>\n",
       "      <td>24小時東吳超馬考驗意志力　王威晨：想知道他們跑步在想什麼</td>\n",
       "    </tr>\n",
       "    <tr>\n",
       "      <th>37</th>\n",
       "      <td>2019/12/14 11:22</td>\n",
       "      <td>體育</td>\n",
       "      <td>ABL／林志傑壓力性骨折　許晉哲：沒有任何人能替代他</td>\n",
       "    </tr>\n",
       "    <tr>\n",
       "      <th>8</th>\n",
       "      <td>2019/12/14 12:00</td>\n",
       "      <td>體育</td>\n",
       "      <td>與大都會簽4年1.1億傷了3年　塞佩達斯同意減薪1000萬美元</td>\n",
       "    </tr>\n",
       "    <tr>\n",
       "      <th>49</th>\n",
       "      <td>2019/12/14 11:07</td>\n",
       "      <td>體育</td>\n",
       "      <td>ABL／夢想家開季4場換洋將　前MVP塔克、喬丹報到</td>\n",
       "    </tr>\n",
       "  </tbody>\n",
       "</table>\n",
       "<p>100 rows × 3 columns</p>\n",
       "</div>"
      ],
      "text/plain": [
       "                time   tag                               title\n",
       "3   2019/12/14 12:05  ET車雲  一桶油跑937km！美EPA環保局測試：福特Kuga油電休旅同級最省\n",
       "87  2019/12/14 10:05  ET車雲       「老司機」為何這麼痛恨扭力樑？操駕安定感及舒適度是一大考驗\n",
       "51  2019/12/14 11:04    健康     39歲女「卵巢早衰」停經3個月　醫曝「致病危機」：壓力影響暴增\n",
       "35  2019/12/14 11:26    健康     洗米水沖菜更髒！專家曝常見「5大NG洗法」...浸泡＝營養全失\n",
       "90  2019/12/14 10:00    健康         打了流感疫苗怎麼還感冒？藥師3面向分析：一般感冒≠流感\n",
       "..               ...   ...                                 ...\n",
       "60  2019/12/14 10:54    體育          CBA／廣廈找到新外援！　簽下上季老鷹普朗李攜手劉錚\n",
       "56  2019/12/14 10:59    體育       24小時東吳超馬考驗意志力　王威晨：想知道他們跑步在想什麼\n",
       "37  2019/12/14 11:22    體育          ABL／林志傑壓力性骨折　許晉哲：沒有任何人能替代他\n",
       "8   2019/12/14 12:00    體育     與大都會簽4年1.1億傷了3年　塞佩達斯同意減薪1000萬美元\n",
       "49  2019/12/14 11:07    體育          ABL／夢想家開季4場換洋將　前MVP塔克、喬丹報到\n",
       "\n",
       "[100 rows x 3 columns]"
      ]
     },
     "execution_count": 8,
     "metadata": {},
     "output_type": "execute_result"
    }
   ],
   "source": [
    "newsDataFrame.sort_values(by = 'tag')"
   ]
  },
  {
   "cell_type": "markdown",
   "metadata": {},
   "source": [
    "### ③ 哪一個類別的文章最多"
   ]
  },
  {
   "cell_type": "code",
   "execution_count": 26,
   "metadata": {
    "scrolled": true
   },
   "outputs": [
    {
     "data": {
      "text/plain": [
       "社會      17\n",
       "國際      12\n",
       "體育      11\n",
       "政治      10\n",
       "旅遊       8\n",
       "生活       7\n",
       "影劇       7\n",
       "房產雲      5\n",
       "大陸       4\n",
       "時尚       4\n",
       "寵物動物     3\n",
       "地方       3\n",
       "健康       3\n",
       "財經       2\n",
       "ET車雲     2\n",
       "網搜       1\n",
       "論壇       1\n",
       "Name: tag, dtype: int64"
      ]
     },
     "execution_count": 26,
     "metadata": {},
     "output_type": "execute_result"
    }
   ],
   "source": [
    "newsDataFrame['tag'].value_counts()"
   ]
  },
  {
   "cell_type": "code",
   "execution_count": 33,
   "metadata": {},
   "outputs": [
    {
     "data": {
      "text/plain": [
       "tag\n",
       "社會      17\n",
       "國際      12\n",
       "體育      11\n",
       "政治      10\n",
       "旅遊       8\n",
       "生活       7\n",
       "影劇       7\n",
       "房產雲      5\n",
       "時尚       4\n",
       "大陸       4\n",
       "寵物動物     3\n",
       "地方       3\n",
       "健康       3\n",
       "財經       2\n",
       "ET車雲     2\n",
       "網搜       1\n",
       "論壇       1\n",
       "Name: tag, dtype: int64"
      ]
     },
     "execution_count": 33,
     "metadata": {},
     "output_type": "execute_result"
    }
   ],
   "source": [
    "newsDataFrame.groupby('tag')['tag'].count().sort_values(ascending = False)"
   ]
  },
  {
   "cell_type": "code",
   "execution_count": null,
   "metadata": {},
   "outputs": [],
   "source": []
  },
  {
   "cell_type": "code",
   "execution_count": null,
   "metadata": {},
   "outputs": [],
   "source": []
  }
 ],
 "metadata": {
  "kernelspec": {
   "display_name": "Python 3",
   "language": "python",
   "name": "python3"
  },
  "language_info": {
   "codemirror_mode": {
    "name": "ipython",
    "version": 3
   },
   "file_extension": ".py",
   "mimetype": "text/x-python",
   "name": "python",
   "nbconvert_exporter": "python",
   "pygments_lexer": "ipython3",
   "version": "3.7.3"
  }
 },
 "nbformat": 4,
 "nbformat_minor": 2
}
