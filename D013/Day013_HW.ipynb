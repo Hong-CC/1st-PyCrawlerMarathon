{
 "cells": [
  {
   "cell_type": "markdown",
   "metadata": {},
   "source": [
    "# PTT 網路爬蟲實作練習\n",
    "\n",
    "\n",
    "* 能夠利用 Request + BeatifulSour 撰寫爬蟲，並存放到合適的資料結構\n"
   ]
  },
  {
   "cell_type": "markdown",
   "metadata": {},
   "source": [
    "## 作業目標\n",
    "\n",
    "根據範例 ，完成以下問題：\n",
    "\n",
    "* ① 印出最新文章的「作者」「標題」「時間」\n",
    "* ② 印出第一頁所有文章的「作者」「標題」「時間」\n"
   ]
  },
  {
   "cell_type": "markdown",
   "metadata": {},
   "source": [
    "### ① 印出最新文章的「作者」「標題」「時間」"
   ]
  },
  {
   "cell_type": "code",
   "execution_count": 1,
   "metadata": {},
   "outputs": [],
   "source": [
    "import requests\n",
    "from bs4 import BeautifulSoup"
   ]
  },
  {
   "cell_type": "code",
   "execution_count": 23,
   "metadata": {},
   "outputs": [
    {
     "name": "stdout",
     "output_type": "stream",
     "text": [
      "[大哭] 路邊停車別急著繳錢\n",
      "作者: TurtleGods\n",
      "發文時間: 12/11\n",
      "Re: 到底煮飯要加多少水啊\n",
      "作者: zebear\n",
      "發文時間: 12/11\n",
      "(本文已被刪除) [badb]\n",
      "作者: -\n",
      "發文時間: 12/11\n",
      "[無言] 地理到底有多差...\n",
      "作者: badb\n",
      "發文時間: 12/11\n",
      "(本文已被刪除) [airva]\n",
      "作者: -\n",
      "發文時間: 12/11\n",
      "(本文已被刪除) [cheriecash]\n",
      "作者: -\n",
      "發文時間: 12/12\n",
      "(本文已被刪除) [cheriecash]\n",
      "作者: -\n",
      "發文時間: 12/12\n",
      "[無言] 是在哈囉嗎？\n",
      "作者: halsutine\n",
      "發文時間: 12/12\n",
      "[聽錯] 昨晚該死的蚊子\n",
      "作者: s51685168\n",
      "發文時間: 12/12\n",
      "[無言] 到底誰才是詐騙集團\n",
      "作者: billy11813\n",
      "發文時間: 12/12\n",
      "[無言] 到底在說什麼啦\n",
      "作者: annie991031\n",
      "發文時間: 12/12\n",
      "(本文已被刪除) [Doraemon9487]\n",
      "作者: -\n",
      "發文時間: 12/12\n",
      "[恍神] 我會不會被抓去驗尿阿QQ\n",
      "作者: HeartBrokeRs\n",
      "發文時間: 12/12\n",
      "[誤會] 女生的洋裝嗎？\n",
      "作者: Dotsu\n",
      "發文時間: 12/13\n",
      "[無言] 被多看兩眼了\n",
      "作者: jerry9476\n",
      "發文時間: 12/13\n",
      "(本文已被刪除) [Hanedas]\n",
      "作者: -\n",
      "發文時間: 12/13\n",
      "(本文已被刪除) [smiletwister]\n",
      "作者: -\n",
      "發文時間: 12/14\n",
      "[無言] Siri關鬧鐘\n",
      "作者: Yungiang\n",
      "發文時間: 12/14\n",
      "[童年]防災中心\n",
      "作者: fatnurse\n",
      "發文時間: 12/14\n",
      "[公告] 笨板板規\n",
      "作者: F7\n",
      "發文時間:  9/20\n",
      "[公告]本板即日起不可PO問卷文\n",
      "作者: F7\n",
      "發文時間:  7/01\n",
      "[公告] 12月份置底閒聊文\n",
      "作者: F7\n",
      "發文時間: 12/01\n"
     ]
    }
   ],
   "source": [
    "url = 'https://www.ptt.cc/bbs/StupidClown/index.html'\n",
    "\n",
    "r = requests.get(url)\n",
    "soup = BeautifulSoup(r.text)\n",
    "\n",
    "for entry in soup.find_all(class_ = 'r-ent'):\n",
    "    try:\n",
    "        print(entry.find(class_ = 'title').text.strip())\n",
    "        print('作者:',entry.find(class_ = 'author').text)\n",
    "        print('發文時間:', entry.find(class_ = 'date').text)\n",
    "    except:\n",
    "        continue"
   ]
  },
  {
   "cell_type": "markdown",
   "metadata": {},
   "source": [
    "### ② 印出第一頁所有文章的「作者」「標題」「時間」"
   ]
  },
  {
   "cell_type": "code",
   "execution_count": null,
   "metadata": {},
   "outputs": [],
   "source": [
    "'''\n",
    "Your Code\n",
    "'''"
   ]
  },
  {
   "cell_type": "markdown",
   "metadata": {},
   "source": [
    "### ③ 試著爬爬看其他版的文章"
   ]
  },
  {
   "cell_type": "code",
   "execution_count": null,
   "metadata": {},
   "outputs": [],
   "source": [
    "'''\n",
    "Your Code\n",
    "'''"
   ]
  }
 ],
 "metadata": {
  "kernelspec": {
   "display_name": "Python 3",
   "language": "python",
   "name": "python3"
  },
  "language_info": {
   "codemirror_mode": {
    "name": "ipython",
    "version": 3
   },
   "file_extension": ".py",
   "mimetype": "text/x-python",
   "name": "python",
   "nbconvert_exporter": "python",
   "pygments_lexer": "ipython3",
   "version": "3.7.3"
  }
 },
 "nbformat": 4,
 "nbformat_minor": 2
}
