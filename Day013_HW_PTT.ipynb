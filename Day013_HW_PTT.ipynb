{
 "cells": [
  {
   "cell_type": "markdown",
   "metadata": {},
   "source": [
    "# PTT 網路爬蟲實作練習\n",
    "\n",
    "\n",
    "* 能夠利用 Request + BeatifulSour 撰寫爬蟲，並存放到合適的資料結構\n"
   ]
  },
  {
   "cell_type": "markdown",
   "metadata": {},
   "source": [
    "## 作業目標\n",
    "\n",
    "根據範例 ，完成以下問題：\n",
    "\n",
    "* ① 印出最新文章的「作者」「標題」「時間」\n",
    "* ② 印出第一頁所有文章的「作者」「標題」「時間」\n"
   ]
  },
  {
   "cell_type": "markdown",
   "metadata": {},
   "source": [
    "### ① 印出最新文章的「作者」「標題」「時間」"
   ]
  },
  {
   "cell_type": "code",
   "execution_count": 1,
   "metadata": {},
   "outputs": [],
   "source": [
    "import requests\n",
    "from bs4 import BeautifulSoup\n",
    "import pandas as pd\n",
    "import re"
   ]
  },
  {
   "cell_type": "code",
   "execution_count": 2,
   "metadata": {},
   "outputs": [],
   "source": [
    "def Latest_Article(board):\n",
    "    url = 'https://www.ptt.cc/bbs/'+str(board)+'/index.html'\n",
    "    r = requests.get(url, cookies={'over18': '1'})\n",
    "    soup = BeautifulSoup(r.text)\n",
    "    pattern = re.compile(r'r-ent|r-list-sep')\n",
    "    for entry in soup.find_all(class_ = pattern):\n",
    "        try:\n",
    "            if entry.text == '':\n",
    "                break\n",
    "            latest = entry\n",
    "        except:\n",
    "            continue\n",
    "    latest_url = 'https://www.ptt.cc' + latest.find('a')['href']\n",
    "    latest_soup = BeautifulSoup(requests.get(latest_url, cookies={'over18': '1'}).text)\n",
    "    latest_article = []\n",
    "    for info in latest_soup.find_all(class_ = 'article-meta-value'):\n",
    "        latest_article.append(info.text)\n",
    "    print(\n",
    "        '標題：{}\\n作者：{}\\n時間：{}'.format(latest_article[2], latest_article[0], latest_article[3])\n",
    "    )\n"
   ]
  },
  {
   "cell_type": "code",
   "execution_count": 3,
   "metadata": {},
   "outputs": [
    {
     "name": "stdout",
     "output_type": "stream",
     "text": [
      "標題：[正妹] 嗨爆\n",
      "作者：Arschloch (Arschloch)\n",
      "時間：Wed Dec 18 09:51:36 2019\n"
     ]
    }
   ],
   "source": [
    "Latest_Article(board = 'Beauty')"
   ]
  },
  {
   "cell_type": "markdown",
   "metadata": {},
   "source": [
    "### ② 印出第一頁所有文章的「作者」「標題」「時間」"
   ]
  },
  {
   "cell_type": "code",
   "execution_count": 51,
   "metadata": {},
   "outputs": [],
   "source": [
    "def firstpage(board):\n",
    "    articleList = []\n",
    "    url = 'https://www.ptt.cc/bbs/'+str(board)+'/index.html'\n",
    "    r = requests.get(url,cookies={'over18': '1'})\n",
    "    soup = BeautifulSoup(r.text)\n",
    "\n",
    "    for entry in soup.find_all(class_ = 'r-ent'):\n",
    "        try:\n",
    "            title = entry.find(class_ = 'title').text.strip()\n",
    "            author = entry.find(class_ = 'author').text\n",
    "            date = entry.find(class_ = 'date').text\n",
    "            articleList.append({\n",
    "                '標題' : title,\n",
    "                '作者' : author,\n",
    "                '時間' : date\n",
    "            })\n",
    "        except:\n",
    "            continue\n",
    "    return pd.DataFrame(articleList)"
   ]
  },
  {
   "cell_type": "code",
   "execution_count": 53,
   "metadata": {},
   "outputs": [
    {
     "data": {
      "text/html": [
       "<div>\n",
       "<style scoped>\n",
       "    .dataframe tbody tr th:only-of-type {\n",
       "        vertical-align: middle;\n",
       "    }\n",
       "\n",
       "    .dataframe tbody tr th {\n",
       "        vertical-align: top;\n",
       "    }\n",
       "\n",
       "    .dataframe thead th {\n",
       "        text-align: right;\n",
       "    }\n",
       "</style>\n",
       "<table border=\"1\" class=\"dataframe\">\n",
       "  <thead>\n",
       "    <tr style=\"text-align: right;\">\n",
       "      <th></th>\n",
       "      <th>標題</th>\n",
       "      <th>作者</th>\n",
       "      <th>時間</th>\n",
       "    </tr>\n",
       "  </thead>\n",
       "  <tbody>\n",
       "    <tr>\n",
       "      <th>0</th>\n",
       "      <td>[花邊]林書豪被看破手腳?中媒:CBA生存比NBA更難</td>\n",
       "      <td>blue999</td>\n",
       "      <td>12/15</td>\n",
       "    </tr>\n",
       "    <tr>\n",
       "      <th>1</th>\n",
       "      <td>[情報] WOJ：Doncic腳踝中度扭傷</td>\n",
       "      <td>kuluma</td>\n",
       "      <td>12/15</td>\n",
       "    </tr>\n",
       "    <tr>\n",
       "      <th>2</th>\n",
       "      <td>[討論] 077這個傷</td>\n",
       "      <td>wowoin</td>\n",
       "      <td>12/15</td>\n",
       "    </tr>\n",
       "    <tr>\n",
       "      <th>3</th>\n",
       "      <td>[新聞] 厄齊爾控中國迫害維吾爾 兵工廠仿NBA火箭</td>\n",
       "      <td>go190214</td>\n",
       "      <td>12/15</td>\n",
       "    </tr>\n",
       "    <tr>\n",
       "      <th>4</th>\n",
       "      <td>[花邊] 告別CBA返美訓練 史陶德邁爾仍有意再戰NBA</td>\n",
       "      <td>thnlkj0665</td>\n",
       "      <td>12/15</td>\n",
       "    </tr>\n",
       "    <tr>\n",
       "      <th>5</th>\n",
       "      <td>[討論] 喬丹快閃為啥台灣人還這麼愛他</td>\n",
       "      <td>dog9527</td>\n",
       "      <td>12/15</td>\n",
       "    </tr>\n",
       "    <tr>\n",
       "      <th>6</th>\n",
       "      <td>Re: [情報] LeBron James進入30歲後數據表現</td>\n",
       "      <td>MrSatan</td>\n",
       "      <td>12/15</td>\n",
       "    </tr>\n",
       "    <tr>\n",
       "      <th>7</th>\n",
       "      <td>[討論] 林書豪算亞裔第一控嗎？</td>\n",
       "      <td>s27052705</td>\n",
       "      <td>12/15</td>\n",
       "    </tr>\n",
       "    <tr>\n",
       "      <th>8</th>\n",
       "      <td>Re: [情報] De'Aaron Fox左腳踝第三級扭傷</td>\n",
       "      <td>GodEyes</td>\n",
       "      <td>12/15</td>\n",
       "    </tr>\n",
       "    <tr>\n",
       "      <th>9</th>\n",
       "      <td>Re: [新聞] 熱火昨輸球好冤 裁判3度漏吹都對湖人有利</td>\n",
       "      <td>dwyanes</td>\n",
       "      <td>12/15</td>\n",
       "    </tr>\n",
       "    <tr>\n",
       "      <th>10</th>\n",
       "      <td>[公告] 板規v6.6</td>\n",
       "      <td>Vedan</td>\n",
       "      <td>5/24</td>\n",
       "    </tr>\n",
       "    <tr>\n",
       "      <th>11</th>\n",
       "      <td>[公告] 樂透取消及未來不再開啟樂透</td>\n",
       "      <td>Vedan</td>\n",
       "      <td>6/24</td>\n",
       "    </tr>\n",
       "    <tr>\n",
       "      <th>12</th>\n",
       "      <td>[公告] 版主上任相關事項</td>\n",
       "      <td>qazwsx879345</td>\n",
       "      <td>10/25</td>\n",
       "    </tr>\n",
       "    <tr>\n",
       "      <th>13</th>\n",
       "      <td>[情報] SEASON Schedule 賽程 December 19–20</td>\n",
       "      <td>JerroLi</td>\n",
       "      <td>11/29</td>\n",
       "    </tr>\n",
       "    <tr>\n",
       "      <th>14</th>\n",
       "      <td>[公告]是否禁止basketball top 5文章投票開始</td>\n",
       "      <td>dragon803</td>\n",
       "      <td>12/08</td>\n",
       "    </tr>\n",
       "  </tbody>\n",
       "</table>\n",
       "</div>"
      ],
      "text/plain": [
       "                                        標題            作者     時間\n",
       "0              [花邊]林書豪被看破手腳?中媒:CBA生存比NBA更難       blue999  12/15\n",
       "1                    [情報] WOJ：Doncic腳踝中度扭傷        kuluma  12/15\n",
       "2                              [討論] 077這個傷        wowoin  12/15\n",
       "3               [新聞] 厄齊爾控中國迫害維吾爾 兵工廠仿NBA火箭      go190214  12/15\n",
       "4             [花邊] 告別CBA返美訓練 史陶德邁爾仍有意再戰NBA    thnlkj0665  12/15\n",
       "5                      [討論] 喬丹快閃為啥台灣人還這麼愛他       dog9527  12/15\n",
       "6          Re: [情報] LeBron James進入30歲後數據表現       MrSatan  12/15\n",
       "7                         [討論] 林書豪算亞裔第一控嗎？     s27052705  12/15\n",
       "8            Re: [情報] De'Aaron Fox左腳踝第三級扭傷       GodEyes  12/15\n",
       "9            Re: [新聞] 熱火昨輸球好冤 裁判3度漏吹都對湖人有利       dwyanes  12/15\n",
       "10                             [公告] 板規v6.6         Vedan   5/24\n",
       "11                      [公告] 樂透取消及未來不再開啟樂透         Vedan   6/24\n",
       "12                           [公告] 版主上任相關事項  qazwsx879345  10/25\n",
       "13  [情報] SEASON Schedule 賽程 December 19–20       JerroLi  11/29\n",
       "14          [公告]是否禁止basketball top 5文章投票開始     dragon803  12/08"
      ]
     },
     "execution_count": 53,
     "metadata": {},
     "output_type": "execute_result"
    }
   ],
   "source": [
    "firstpage(board = 'NBA')"
   ]
  },
  {
   "cell_type": "markdown",
   "metadata": {},
   "source": [
    "### ③ 試著爬爬看其他版的文章"
   ]
  },
  {
   "cell_type": "code",
   "execution_count": 52,
   "metadata": {},
   "outputs": [
    {
     "data": {
      "text/html": [
       "<div>\n",
       "<style scoped>\n",
       "    .dataframe tbody tr th:only-of-type {\n",
       "        vertical-align: middle;\n",
       "    }\n",
       "\n",
       "    .dataframe tbody tr th {\n",
       "        vertical-align: top;\n",
       "    }\n",
       "\n",
       "    .dataframe thead th {\n",
       "        text-align: right;\n",
       "    }\n",
       "</style>\n",
       "<table border=\"1\" class=\"dataframe\">\n",
       "  <thead>\n",
       "    <tr style=\"text-align: right;\">\n",
       "      <th></th>\n",
       "      <th>標題</th>\n",
       "      <th>作者</th>\n",
       "      <th>時間</th>\n",
       "    </tr>\n",
       "  </thead>\n",
       "  <tbody>\n",
       "    <tr>\n",
       "      <th>0</th>\n",
       "      <td>Re: [挑戰] 你敢po女友上來嗎？</td>\n",
       "      <td>s10004031</td>\n",
       "      <td>12/15</td>\n",
       "    </tr>\n",
       "    <tr>\n",
       "      <th>1</th>\n",
       "      <td>伊織もえ 5張</td>\n",
       "      <td>akbba</td>\n",
       "      <td>12/15</td>\n",
       "    </tr>\n",
       "    <tr>\n",
       "      <th>2</th>\n",
       "      <td>Re: [挑戰] 你敢po女友上來嗎？</td>\n",
       "      <td>area41gold</td>\n",
       "      <td>12/15</td>\n",
       "    </tr>\n",
       "    <tr>\n",
       "      <th>3</th>\n",
       "      <td>Re: [挑戰] 你敢po女友上來嗎？</td>\n",
       "      <td>miaosue</td>\n",
       "      <td>12/15</td>\n",
       "    </tr>\n",
       "    <tr>\n",
       "      <th>4</th>\n",
       "      <td>[正妹] 有點像Sandy Wu的越南人</td>\n",
       "      <td>sony9425</td>\n",
       "      <td>12/15</td>\n",
       "    </tr>\n",
       "    <tr>\n",
       "      <th>5</th>\n",
       "      <td>[公告] 不願上表特 ＆ 優文推薦 ＆ 檢舉建議專區</td>\n",
       "      <td>hateOnas</td>\n",
       "      <td>5/21</td>\n",
       "    </tr>\n",
       "    <tr>\n",
       "      <th>6</th>\n",
       "      <td>Fw: [公告] 請使用者多加注意我國保護兒少的法令</td>\n",
       "      <td>hateOnas</td>\n",
       "      <td>7/24</td>\n",
       "    </tr>\n",
       "    <tr>\n",
       "      <th>7</th>\n",
       "      <td>[公告] 表特板板規(2019.7.26)</td>\n",
       "      <td>hateOnas</td>\n",
       "      <td>7/26</td>\n",
       "    </tr>\n",
       "    <tr>\n",
       "      <th>8</th>\n",
       "      <td>[公告] 201907 板主徵選延長</td>\n",
       "      <td>hateOnas</td>\n",
       "      <td>7/26</td>\n",
       "    </tr>\n",
       "    <tr>\n",
       "      <th>9</th>\n",
       "      <td>[公告] 請勿意淫推文</td>\n",
       "      <td>hateOnas</td>\n",
       "      <td>11/23</td>\n",
       "    </tr>\n",
       "  </tbody>\n",
       "</table>\n",
       "</div>"
      ],
      "text/plain": [
       "                           標題          作者     時間\n",
       "0         Re: [挑戰] 你敢po女友上來嗎？   s10004031  12/15\n",
       "1                     伊織もえ 5張       akbba  12/15\n",
       "2         Re: [挑戰] 你敢po女友上來嗎？  area41gold  12/15\n",
       "3         Re: [挑戰] 你敢po女友上來嗎？     miaosue  12/15\n",
       "4        [正妹] 有點像Sandy Wu的越南人    sony9425  12/15\n",
       "5  [公告] 不願上表特 ＆ 優文推薦 ＆ 檢舉建議專區    hateOnas   5/21\n",
       "6  Fw: [公告] 請使用者多加注意我國保護兒少的法令    hateOnas   7/24\n",
       "7       [公告] 表特板板規(2019.7.26)    hateOnas   7/26\n",
       "8          [公告] 201907 板主徵選延長    hateOnas   7/26\n",
       "9                 [公告] 請勿意淫推文    hateOnas  11/23"
      ]
     },
     "execution_count": 52,
     "metadata": {},
     "output_type": "execute_result"
    }
   ],
   "source": [
    "firstpage(board = 'Beauty')"
   ]
  },
  {
   "cell_type": "code",
   "execution_count": 8,
   "metadata": {},
   "outputs": [
    {
     "name": "stdout",
     "output_type": "stream",
     "text": [
      "標題：[Live] 太陽 @ 快艇\n",
      "作者：Rambo (香帥)\n",
      "時間：Wed Dec 18 11:00:01 2019\n"
     ]
    }
   ],
   "source": [
    "url = 'https://www.ptt.cc/bbs/NBA/index.html'\n",
    "r = requests.get(url, cookies={'over18': '1'})\n",
    "soup = BeautifulSoup(r.text)\n",
    "pattern = re.compile('r-ent|r-list-sep')\n",
    "for entry in soup.find_all(class_ = pattern):\n",
    "    try:\n",
    "        if entry.text == '':\n",
    "            break\n",
    "        latest = entry\n",
    "    except:\n",
    "        continue\n",
    "latest_url = 'https://www.ptt.cc' + latest.find('a')['href']\n",
    "latest_soup = BeautifulSoup(requests.get(latest_url, cookies={'over18': '1'}).text)\n",
    "latest_article = []\n",
    "for info in latest_soup.find_all(class_ = 'article-meta-value'):\n",
    "    latest_article.append(info.text)\n",
    "print(\n",
    "    '標題：{}\\n作者：{}\\n時間：{}'.format(latest_article[2], latest_article[0], latest_article[3])\n",
    ")"
   ]
  },
  {
   "cell_type": "code",
   "execution_count": 9,
   "metadata": {},
   "outputs": [
    {
     "data": {
      "text/plain": [
       "<div class=\"r-ent\">\n",
       "<div class=\"nrec\"><span class=\"hl f3\">11</span></div>\n",
       "<div class=\"title\">\n",
       "<a href=\"/bbs/NBA/M.1576638005.A.0A6.html\">[Live] 太陽 @ 快艇</a>\n",
       "</div>\n",
       "<div class=\"meta\">\n",
       "<div class=\"author\">Rambo</div>\n",
       "<div class=\"article-menu\">\n",
       "<div class=\"trigger\">⋯</div>\n",
       "<div class=\"dropdown\">\n",
       "<div class=\"item\"><a href=\"/bbs/NBA/search?q=thread%3A%5BLive%5D+%E5%A4%AA%E9%99%BD+%40+%E5%BF%AB%E8%89%87\">搜尋同標題文章</a></div>\n",
       "<div class=\"item\"><a href=\"/bbs/NBA/search?q=author%3ARambo\">搜尋看板內 Rambo 的文章</a></div>\n",
       "</div>\n",
       "</div>\n",
       "<div class=\"date\">12/18</div>\n",
       "<div class=\"mark\"></div>\n",
       "</div>\n",
       "</div>"
      ]
     },
     "execution_count": 9,
     "metadata": {},
     "output_type": "execute_result"
    }
   ],
   "source": [
    "latest"
   ]
  },
  {
   "cell_type": "code",
   "execution_count": null,
   "metadata": {},
   "outputs": [],
   "source": []
  }
 ],
 "metadata": {
  "kernelspec": {
   "display_name": "Python 3",
   "language": "python",
   "name": "python3"
  },
  "language_info": {
   "codemirror_mode": {
    "name": "ipython",
    "version": 3
   },
   "file_extension": ".py",
   "mimetype": "text/x-python",
   "name": "python",
   "nbconvert_exporter": "python",
   "pygments_lexer": "ipython3",
   "version": "3.7.3"
  }
 },
 "nbformat": 4,
 "nbformat_minor": 2
}
