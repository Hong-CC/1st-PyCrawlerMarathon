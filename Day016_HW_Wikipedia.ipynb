{
 "cells": [
  {
   "cell_type": "markdown",
   "metadata": {},
   "source": [
    "# Wikipedia爬蟲   \n",
    "## 定義一個爬蟲函數，這個函數的主要工作為：\n",
    "### (1) 爬取當前關鍵字的解釋，並存入檔案(因為文章內容太多會佔滿整個頁面，所以存程檔案，方便後續檢視)\n",
    "### (2) 萃取出當前關鍵字所引用的外部連結，當作新的查詢關鍵字\n",
    "### (3) 把第(2)擷取到的關鍵字當作新的關鍵字，回到第(1)步，爬取新的關鍵字解釋。"
   ]
  },
  {
   "cell_type": "code",
   "execution_count": 2,
   "metadata": {},
   "outputs": [],
   "source": [
    "import requests\n",
    "from bs4 import BeautifulSoup\n",
    "import re\n",
    "import os"
   ]
  },
  {
   "cell_type": "markdown",
   "metadata": {},
   "source": [
    "## 將搜尋的關鍵字，變成UTF-8編碼\n",
    "https://zh.wikipedia.org/wiki/%E7%B6%B2%E8%B7%AF%E7%88%AC%E8%9F%B2  \n",
    "這是關鍵字'網路爬蟲'的wiki網址，後面那一段是'網路爬蟲'的UTF-8編碼"
   ]
  },
  {
   "cell_type": "code",
   "execution_count": 1,
   "metadata": {},
   "outputs": [],
   "source": [
    "def keyword_to_UTF8(keyword = None):\n",
    "    utf8_url = repr(keyword.encode('UTF-8')).upper() #B'\\XE7\\XB6\\XB2\\XE8\\XB7\\XAF\\XE7\\X88\\XAC\\XE8\\X9F\\XB2'\n",
    "    utf8_url = utf8_url.replace('\\\\X', '%') # B'%E7%B6%B2%E8%B7%AF%E7%88%AC%E8%9F%B2'\n",
    "    root_keyword_link = '/wiki/' + utf8_url[2:-1]\n",
    "    return root_keyword_link"
   ]
  },
  {
   "cell_type": "code",
   "execution_count": 10,
   "metadata": {},
   "outputs": [],
   "source": [
    "def wiki():\n",
    "    keyword = str(input('輸入關鍵字： '))\n",
    "    \n",
    "    # 模擬封包\n",
    "    headers = {\n",
    "        'authority': 'zh.wikipedia.org',\n",
    "        'method': 'GET',\n",
    "        'path': keyword_to_UTF8(keyword = keyword),\n",
    "        'scheme': 'https',\n",
    "        'accept': 'text/html,application/xhtml+xml,application/xml;q=0.9,image/webp,image/apng,*/*;q=0.8,application/signed-exchange;v=b3;q=0.9',\n",
    "        'accept-encoding': 'gzip, deflate, br',\n",
    "        'accept-language': 'zh-TW,zh;q=0.9,en-US;q=0.8,en;q=0.7',\n",
    "        'cache-control': 'max-age=0',\n",
    "        'cookie': 'TBLkisOn=0; VEE=wikitext; WMF-Last-Access=18-Dec-2019; WMF-Last-Access-Global=18-Dec-2019; GeoIP=TW:TPE:Taipei:25.05:121.53:v4',\n",
    "        #'if-modified-since': 'Mon, 16 Dec 2019 05:20:12 GMT',\n",
    "        'referer': 'https://zh.wikipedia.org/zh-tw/%E7%B6%B2%E8%B7%AF%E7%88%AC%E8%9F%B2',\n",
    "        'sec-fetch-mode': 'navigate',\n",
    "        'sec-fetch-site': 'same-origin',\n",
    "        'sec-fetch-user': '?1',\n",
    "        'upgrade-insecure-requests': '1',\n",
    "        'user-agent': 'Mozilla/5.0 (Windows NT 10.0; Win64; x64) AppleWebKit/537.36 (KHTML, like Gecko) Chrome/79.0.3945.79 Safari/537.36'\n",
    "    }\n",
    "    url = 'https://zh.wikipedia.org' + keyword_to_UTF8(keyword = keyword)\n",
    "    resp = requests.get(url, headers=headers)\n",
    "    resp.encoding = 'utf-8'\n",
    "    html = BeautifulSoup(resp.text, \"lxml\")\n",
    "\n",
    "    # 讀取文字部分，並從在檔案 WikiArticle裡頭\n",
    "    \n",
    "    context = html.find('div', attrs = {'id': 'mw-content-text'}).find_all('p')\n",
    "    \n",
    "    output_dir = 'WikiArticle'\n",
    "    output_file = '{outputdir}_{outputfile}.txt'.format(outputdir = output_dir, outputfile = keyword)\n",
    "\n",
    "    with open(output_file, \"w\", encoding=\"utf-8\") as fh:\n",
    "            for paragraph in context:\n",
    "                f = fh.write(paragraph.get_text())\n",
    "    \n",
    "    # 查詢文中外部連結關鍵字，並存成dict\n",
    "        \n",
    "    keyword_go_on = str(input('是否查詢文中出現的外部連結關鍵字(y/n):'))\n",
    "    external_link_dict = {}\n",
    "    if keyword_go_on == 'y':\n",
    "        for ext_link in context:\n",
    "            a_tag = ext_link.find_all('a', href = re.compile('^/wiki/'))\n",
    "            if len(a_tag) > 0:\n",
    "                for link in a_tag:\n",
    "                    a_link = 'https://zh.wikipedia.org' + link['href']\n",
    "                    a_keyword = link.text\n",
    "                    print('外部連結：[%s] %s' %(a_keyword, a_link))\n",
    "                    external_link_dict[a_keyword] = a_link\n",
    "    elif keyword_go_on == 'n':\n",
    "        print('Thank you')\n",
    "    \n",
    "    # 遞迴搜尋\n",
    "    \n",
    "    article_go_on = str(input('是否繼續搜尋(y/n)：'))\n",
    "    if article_go_on == 'y':\n",
    "        wiki()\n",
    "    elif article_go_on == 'n':\n",
    "        print('Thank you')\n",
    "        \n",
    "                    \n",
    "            "
   ]
  },
  {
   "cell_type": "code",
   "execution_count": 11,
   "metadata": {},
   "outputs": [
    {
     "name": "stdout",
     "output_type": "stream",
     "text": [
      "輸入關鍵字： 網路爬蟲\n",
      "是否查詢文中出現的外部連結關鍵字(y/n):y\n",
      "外部連結：[全球資訊網] https://zh.wikipedia.org/wiki/%E4%B8%87%E7%BB%B4%E7%BD%91\n",
      "外部連結：[網路機器人] https://zh.wikipedia.org/wiki/%E7%BD%91%E7%BB%9C%E6%9C%BA%E5%99%A8%E4%BA%BA\n",
      "外部連結：[網路] https://zh.wikipedia.org/wiki/%E7%BD%91%E7%BB%9C%E6%90%9C%E7%B4%A2%E5%BC%95%E6%93%8E\n",
      "外部連結：[搜尋引擎] https://zh.wikipedia.org/wiki/%E6%90%9C%E7%B4%A2%E5%BC%95%E6%93%8E\n",
      "外部連結：[robots.txt] https://zh.wikipedia.org/wiki/Robots.txt\n",
      "外部連結：[網站] https://zh.wikipedia.org/wiki/%E7%BD%91%E7%AB%99\n",
      "外部連結：[超連結] https://zh.wikipedia.org/wiki/%E8%B6%85%E9%80%A3%E7%B5%90\n",
      "外部連結：[HTML] https://zh.wikipedia.org/wiki/HTML\n",
      "外部連結：[網頁] https://zh.wikipedia.org/wiki/%E7%B6%B2%E9%A0%81\n",
      "外部連結：[網際網路] https://zh.wikipedia.org/wiki/%E4%BA%92%E8%81%94%E7%BD%91\n",
      "外部連結：[伺服器] https://zh.wikipedia.org/wiki/%E6%9C%8D%E5%8A%A1%E5%99%A8\n",
      "外部連結：[超文字傳輸協定] https://zh.wikipedia.org/wiki/%E8%B6%85%E6%96%87%E6%9C%AC%E5%82%B3%E8%BC%B8%E5%8D%94%E5%AE%9A\n",
      "是否繼續搜尋(y/n)：y\n",
      "輸入關鍵字： 網路機器人\n",
      "是否查詢文中出現的外部連結關鍵字(y/n):y\n",
      "外部連結：[網際網路] https://zh.wikipedia.org/wiki/%E4%BA%92%E8%81%94%E7%BD%91\n",
      "外部連結：[軟體] https://zh.wikipedia.org/wiki/%E8%BD%AF%E4%BB%B6\n",
      "外部連結：[指令碼] https://zh.wikipedia.org/wiki/%E8%84%9A%E6%9C%AC%E8%AF%AD%E8%A8%80\n",
      "外部連結：[網路爬蟲機器人] https://zh.wikipedia.org/wiki/%E7%BD%91%E7%BB%9C%E7%88%AC%E8%99%AB\n",
      "外部連結：[伺服器] https://zh.wikipedia.org/wiki/%E6%9C%8D%E5%8A%A1%E5%99%A8\n",
      "外部連結：[robots.txt] https://zh.wikipedia.org/wiki/Robots.txt\n",
      "外部連結：[驗證碼] https://zh.wikipedia.org/wiki/%E9%AA%8C%E8%AF%81%E7%A0%81\n",
      "是否繼續搜尋(y/n)：n\n",
      "Thank you\n"
     ]
    }
   ],
   "source": [
    "wiki()"
   ]
  },
  {
   "cell_type": "code",
   "execution_count": 5,
   "metadata": {},
   "outputs": [],
   "source": [
    "input_keyword = \"網路爬蟲\"  # 這裡可以自己定義有興趣的關鍵字\n",
    "\n",
    "utf8_url = repr(input_keyword.encode('UTF-8')).upper()  # 編碼成UTF-8並轉成大寫字元\n",
    "utf8_url = utf8_url.replace(\"\\\\X\", \"%\")                 # 用 '%' 取代 '\\X' \n",
    "#print(\"%s: %s\" % (input_keyword, utf8_url[2:-1:1]))     # 擷取中間的編碼結果\n",
    "\n",
    "# 組成Wiki關鍵字搜尋的網址格式\n",
    "root_keyword_link = '/wiki/' + utf8_url[2:-1:1]\n",
    "#print(root_keyword_link)\n",
    "headers = {\n",
    "    'authority': 'zh.wikipedia.org',\n",
    "    'method': 'GET',\n",
    "    'path': '/wiki/' + root_keyword_link,\n",
    "    'scheme': 'https',\n",
    "    'accept': 'text/html,application/xhtml+xml,application/xml;q=0.9,image/webp,image/apng,*/*;q=0.8,application/signed-exchange;v=b3',\n",
    "    'accept-encoding': 'gzip, deflate, br',\n",
    "    'accept-language': 'zh-TW,zh;q=0.9,en-US;q=0.8,en;q=0.7,zh-CN;q=0.6',\n",
    "    'cookie': 'GeoIP=TW:TPE:Taipei:25.05:121.53:v4; TBLkisOn=0; mwPhp7Seed=8b8; WMF-Last-Access-Global=04-Jun-2019; WMF-Last-Access=04-Jun-2019',\n",
    "    'dnt': '1',\n",
    "    #'if-modified-since': 'Tue, 04 Jun 2019 12:03:22 GMT',\n",
    "    'referer': 'https://zh.wikipedia.org/wiki/Wikipedia:%E9%A6%96%E9%A1%B5',\n",
    "    'upgrade-insecure-requests': '1',\n",
    "    'user-agent': 'Mozilla/5.0 (Windows NT 10.0; Win64; x64) AppleWebKit/537.36 (KHTML, like Gecko) Chrome/74.0.3729.169 Safari/537.36'\n",
    "}    \n",
    "\n",
    "url = 'https://zh.wikipedia.org' + root_keyword_link  # 組合關鍵字查詢URL\n",
    "resp = requests.get(url, headers=headers)\n",
    "resp.encoding = 'utf-8'\n",
    "\n",
    "html = BeautifulSoup(resp.text, \"lxml\")\n",
    "content = html.find(name='div', attrs={'id':'mw-content-text'}).find_all(name='p')\n",
    "\n",
    "#\n",
    "# 解析回傳資料，並萃取文章內容\n",
    "#\n",
    "\n",
    "#for paragraph in content:\n",
    "    #print(paragraph.get_text())\n"
   ]
  },
  {
   "cell_type": "code",
   "execution_count": 32,
   "metadata": {},
   "outputs": [
    {
     "name": "stdout",
     "output_type": "stream",
     "text": [
      "外部連結 [全球資訊網] /wiki/%E4%B8%87%E7%BB%B4%E7%BD%91\n",
      "外部連結 [網路機器人] /wiki/%E7%BD%91%E7%BB%9C%E6%9C%BA%E5%99%A8%E4%BA%BA\n",
      "外部連結 [網路] /wiki/%E7%BD%91%E7%BB%9C%E6%90%9C%E7%B4%A2%E5%BC%95%E6%93%8E\n",
      "外部連結 [搜尋引擎] /wiki/%E6%90%9C%E7%B4%A2%E5%BC%95%E6%93%8E\n",
      "外部連結 [robots.txt] /wiki/Robots.txt\n",
      "外部連結 [網站] /wiki/%E7%BD%91%E7%AB%99\n",
      "外部連結 [超連結] /wiki/%E8%B6%85%E9%80%A3%E7%B5%90\n",
      "外部連結 [HTML] /wiki/HTML\n",
      "外部連結 [網頁] /wiki/%E7%B6%B2%E9%A0%81\n",
      "外部連結 [網際網路] /wiki/%E4%BA%92%E8%81%94%E7%BD%91\n",
      "外部連結 [伺服器] /wiki/%E6%9C%8D%E5%8A%A1%E5%99%A8\n",
      "外部連結 [超文字傳輸協定] /wiki/%E8%B6%85%E6%96%87%E6%9C%AC%E5%82%B3%E8%BC%B8%E5%8D%94%E5%AE%9A\n"
     ]
    }
   ],
   "source": [
    "for ext_link in content:\n",
    "    a_tag = ext_link.find_all('a', href = re.compile('^/wiki/'))\n",
    "    if len(a_tag) > 0:\n",
    "        for link_string in a_tag:\n",
    "            a_link = link_string['href']\n",
    "            a_keyword = link_string.text\n",
    "            print('外部連結 [%s] %s' %(a_keyword, a_link))"
   ]
  }
 ],
 "metadata": {
  "kernelspec": {
   "display_name": "Python 3",
   "language": "python",
   "name": "python3"
  },
  "language_info": {
   "codemirror_mode": {
    "name": "ipython",
    "version": 3
   },
   "file_extension": ".py",
   "mimetype": "text/x-python",
   "name": "python",
   "nbconvert_exporter": "python",
   "pygments_lexer": "ipython3",
   "version": "3.7.3"
  }
 },
 "nbformat": 4,
 "nbformat_minor": 2
}
