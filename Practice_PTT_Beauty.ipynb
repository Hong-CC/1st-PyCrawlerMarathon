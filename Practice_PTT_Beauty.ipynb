{
 "cells": [
  {
   "cell_type": "code",
   "execution_count": 1,
   "metadata": {},
   "outputs": [],
   "source": [
    "import requests\n",
    "from bs4 import BeautifulSoup\n",
    "import pandas as pd\n",
    "from PIL import Image\n",
    "import os"
   ]
  },
  {
   "cell_type": "code",
   "execution_count": 6,
   "metadata": {},
   "outputs": [],
   "source": [
    "def page_from_to(a,b):\n",
    "    articleList = []\n",
    "    for page in range(b, a-1, -1):\n",
    "        url = 'https://www.ptt.cc/bbs/Beauty/index{}.html'.format(page)\n",
    "        resp = requests.get(url, cookies={'over18': '1'})\n",
    "        soup = BeautifulSoup(resp.text, 'html.parser')\n",
    "        for entry in soup.find_all(class_ = 'r-ent'):\n",
    "            if entry.find(class_=\"hl f1\"):\n",
    "                try:\n",
    "                    hot = entry.find(class_=\"hl f1\").text.strip()\n",
    "                    title = entry.find(class_ = 'title').text.strip()\n",
    "                    article_url = 'https://www.ptt.cc'+ entry.find('a')['href']\n",
    "                    articleList.append({\n",
    "                        'hot' : hot,\n",
    "                        'title' : title,\n",
    "                        'url' : article_url\n",
    "                })\n",
    "                except TypeError:\n",
    "                    print('有一篇文章不存在')\n",
    "            elif entry.find(class_=\"hl f3\"):\n",
    "                try:\n",
    "                    hot = entry.find(class_=\"hl f3\").text.strip()\n",
    "                    if int(hot) >= 50:\n",
    "                        title = entry.find(class_ = 'title').text.strip()\n",
    "                        article_url = 'https://www.ptt.cc'+ entry.find('a')['href']\n",
    "                        articleList.append({\n",
    "                            'hot' : hot,\n",
    "                            'title' : title,\n",
    "                            'url' : article_url\n",
    "                        })\n",
    "                except TypeError:\n",
    "                    print('有一篇文章不存在')\n",
    "    articleDataFrame = pd.DataFrame.from_dict(articleList)\n",
    "    articleDataFrame = articleDataFrame.sort_values(by = 'hot', ascending = False)\n",
    "    return articleDataFrame"
   ]
  },
  {
   "cell_type": "code",
   "execution_count": 3,
   "metadata": {},
   "outputs": [],
   "source": [
    "def download(df):\n",
    "    for hot_url in df['url']:\n",
    "        resp = requests.get(hot_url, cookies={'over18': '1'})\n",
    "        soup = BeautifulSoup(resp.text, 'html.parser')\n",
    "        \n",
    "        output_dir = 'downloads'\n",
    "        if not os.path.exists(output_dir):\n",
    "            os.makedirs(output_dir)\n",
    "        \n",
    "        # 定位照片的位置\n",
    "        img_tags = soup.find(id = 'main-content').findChildren('a', recursive = False)\n",
    "        for img_tag in img_tags:\n",
    "            if 'imgur' not in img_tag['href']:\n",
    "                continue\n",
    "            img_id = img_tag['href'].split('/')[-1]\n",
    "            img_url = 'http://i.imgur.com/{}.jpg'.format(img_id)\n",
    "    \n",
    "        # 對圖片送出請求\n",
    "            with requests.get(img_url, stream = True) as r:\n",
    "                r.raise_for_status()\n",
    "                # 檢查圖片副檔名\n",
    "                img = Image.open(r.raw)\n",
    "                img_savename = '{outdir}/{img_id}.{img_ext}'.format(\n",
    "                    outdir=output_dir, img_id=img_id, img_ext=img.format.lower())\n",
    "                img.save(img_savename)\n",
    "                print('Save image {}'.format(img_savename))\n"
   ]
  }
 ],
 "metadata": {
  "kernelspec": {
   "display_name": "Python 3",
   "language": "python",
   "name": "python3"
  },
  "language_info": {
   "codemirror_mode": {
    "name": "ipython",
    "version": 3
   },
   "file_extension": ".py",
   "mimetype": "text/x-python",
   "name": "python",
   "nbconvert_exporter": "python",
   "pygments_lexer": "ipython3",
   "version": "3.7.3"
  }
 },
 "nbformat": 4,
 "nbformat_minor": 2
}
